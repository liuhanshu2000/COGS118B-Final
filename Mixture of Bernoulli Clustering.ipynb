{
 "cells": [
  {
   "cell_type": "code",
   "execution_count": 1,
   "id": "4a225437",
   "metadata": {},
   "outputs": [],
   "source": [
    "import numpy as np\n",
    "import matplotlib.pyplot as plt\n",
    "%matplotlib inline\n",
    "import pandas as pd\n",
    "from sklearn.datasets import fetch_openml\n",
    "import sklearn.neighbors\n",
    "import sklearn.svm\n",
    "import sklearn.model_selection\n",
    "import sklearn.neural_network\n",
    "import sklearn.ensemble"
   ]
  },
  {
   "cell_type": "code",
   "execution_count": 2,
   "id": "a8ba15bb",
   "metadata": {},
   "outputs": [
    {
     "data": {
      "text/plain": [
       "(70000, 784)"
      ]
     },
     "execution_count": 2,
     "metadata": {},
     "output_type": "execute_result"
    }
   ],
   "source": [
    "mnist = fetch_openml(\"mnist_784\")\n",
    "mnist.data.shape"
   ]
  },
  {
   "cell_type": "code",
   "execution_count": 3,
   "id": "e90ce4c7",
   "metadata": {},
   "outputs": [
    {
     "data": {
      "text/html": [
       "<div>\n",
       "<style scoped>\n",
       "    .dataframe tbody tr th:only-of-type {\n",
       "        vertical-align: middle;\n",
       "    }\n",
       "\n",
       "    .dataframe tbody tr th {\n",
       "        vertical-align: top;\n",
       "    }\n",
       "\n",
       "    .dataframe thead th {\n",
       "        text-align: right;\n",
       "    }\n",
       "</style>\n",
       "<table border=\"1\" class=\"dataframe\">\n",
       "  <thead>\n",
       "    <tr style=\"text-align: right;\">\n",
       "      <th></th>\n",
       "      <th>pixel1</th>\n",
       "      <th>pixel2</th>\n",
       "      <th>pixel3</th>\n",
       "      <th>pixel4</th>\n",
       "      <th>pixel5</th>\n",
       "      <th>pixel6</th>\n",
       "      <th>pixel7</th>\n",
       "      <th>pixel8</th>\n",
       "      <th>pixel9</th>\n",
       "      <th>pixel10</th>\n",
       "      <th>...</th>\n",
       "      <th>pixel775</th>\n",
       "      <th>pixel776</th>\n",
       "      <th>pixel777</th>\n",
       "      <th>pixel778</th>\n",
       "      <th>pixel779</th>\n",
       "      <th>pixel780</th>\n",
       "      <th>pixel781</th>\n",
       "      <th>pixel782</th>\n",
       "      <th>pixel783</th>\n",
       "      <th>pixel784</th>\n",
       "    </tr>\n",
       "  </thead>\n",
       "  <tbody>\n",
       "    <tr>\n",
       "      <th>0</th>\n",
       "      <td>0.0</td>\n",
       "      <td>0.0</td>\n",
       "      <td>0.0</td>\n",
       "      <td>0.0</td>\n",
       "      <td>0.0</td>\n",
       "      <td>0.0</td>\n",
       "      <td>0.0</td>\n",
       "      <td>0.0</td>\n",
       "      <td>0.0</td>\n",
       "      <td>0.0</td>\n",
       "      <td>...</td>\n",
       "      <td>0.0</td>\n",
       "      <td>0.0</td>\n",
       "      <td>0.0</td>\n",
       "      <td>0.0</td>\n",
       "      <td>0.0</td>\n",
       "      <td>0.0</td>\n",
       "      <td>0.0</td>\n",
       "      <td>0.0</td>\n",
       "      <td>0.0</td>\n",
       "      <td>0.0</td>\n",
       "    </tr>\n",
       "    <tr>\n",
       "      <th>1</th>\n",
       "      <td>0.0</td>\n",
       "      <td>0.0</td>\n",
       "      <td>0.0</td>\n",
       "      <td>0.0</td>\n",
       "      <td>0.0</td>\n",
       "      <td>0.0</td>\n",
       "      <td>0.0</td>\n",
       "      <td>0.0</td>\n",
       "      <td>0.0</td>\n",
       "      <td>0.0</td>\n",
       "      <td>...</td>\n",
       "      <td>0.0</td>\n",
       "      <td>0.0</td>\n",
       "      <td>0.0</td>\n",
       "      <td>0.0</td>\n",
       "      <td>0.0</td>\n",
       "      <td>0.0</td>\n",
       "      <td>0.0</td>\n",
       "      <td>0.0</td>\n",
       "      <td>0.0</td>\n",
       "      <td>0.0</td>\n",
       "    </tr>\n",
       "    <tr>\n",
       "      <th>2</th>\n",
       "      <td>0.0</td>\n",
       "      <td>0.0</td>\n",
       "      <td>0.0</td>\n",
       "      <td>0.0</td>\n",
       "      <td>0.0</td>\n",
       "      <td>0.0</td>\n",
       "      <td>0.0</td>\n",
       "      <td>0.0</td>\n",
       "      <td>0.0</td>\n",
       "      <td>0.0</td>\n",
       "      <td>...</td>\n",
       "      <td>0.0</td>\n",
       "      <td>0.0</td>\n",
       "      <td>0.0</td>\n",
       "      <td>0.0</td>\n",
       "      <td>0.0</td>\n",
       "      <td>0.0</td>\n",
       "      <td>0.0</td>\n",
       "      <td>0.0</td>\n",
       "      <td>0.0</td>\n",
       "      <td>0.0</td>\n",
       "    </tr>\n",
       "    <tr>\n",
       "      <th>3</th>\n",
       "      <td>0.0</td>\n",
       "      <td>0.0</td>\n",
       "      <td>0.0</td>\n",
       "      <td>0.0</td>\n",
       "      <td>0.0</td>\n",
       "      <td>0.0</td>\n",
       "      <td>0.0</td>\n",
       "      <td>0.0</td>\n",
       "      <td>0.0</td>\n",
       "      <td>0.0</td>\n",
       "      <td>...</td>\n",
       "      <td>0.0</td>\n",
       "      <td>0.0</td>\n",
       "      <td>0.0</td>\n",
       "      <td>0.0</td>\n",
       "      <td>0.0</td>\n",
       "      <td>0.0</td>\n",
       "      <td>0.0</td>\n",
       "      <td>0.0</td>\n",
       "      <td>0.0</td>\n",
       "      <td>0.0</td>\n",
       "    </tr>\n",
       "    <tr>\n",
       "      <th>4</th>\n",
       "      <td>0.0</td>\n",
       "      <td>0.0</td>\n",
       "      <td>0.0</td>\n",
       "      <td>0.0</td>\n",
       "      <td>0.0</td>\n",
       "      <td>0.0</td>\n",
       "      <td>0.0</td>\n",
       "      <td>0.0</td>\n",
       "      <td>0.0</td>\n",
       "      <td>0.0</td>\n",
       "      <td>...</td>\n",
       "      <td>0.0</td>\n",
       "      <td>0.0</td>\n",
       "      <td>0.0</td>\n",
       "      <td>0.0</td>\n",
       "      <td>0.0</td>\n",
       "      <td>0.0</td>\n",
       "      <td>0.0</td>\n",
       "      <td>0.0</td>\n",
       "      <td>0.0</td>\n",
       "      <td>0.0</td>\n",
       "    </tr>\n",
       "    <tr>\n",
       "      <th>...</th>\n",
       "      <td>...</td>\n",
       "      <td>...</td>\n",
       "      <td>...</td>\n",
       "      <td>...</td>\n",
       "      <td>...</td>\n",
       "      <td>...</td>\n",
       "      <td>...</td>\n",
       "      <td>...</td>\n",
       "      <td>...</td>\n",
       "      <td>...</td>\n",
       "      <td>...</td>\n",
       "      <td>...</td>\n",
       "      <td>...</td>\n",
       "      <td>...</td>\n",
       "      <td>...</td>\n",
       "      <td>...</td>\n",
       "      <td>...</td>\n",
       "      <td>...</td>\n",
       "      <td>...</td>\n",
       "      <td>...</td>\n",
       "      <td>...</td>\n",
       "    </tr>\n",
       "    <tr>\n",
       "      <th>69995</th>\n",
       "      <td>0.0</td>\n",
       "      <td>0.0</td>\n",
       "      <td>0.0</td>\n",
       "      <td>0.0</td>\n",
       "      <td>0.0</td>\n",
       "      <td>0.0</td>\n",
       "      <td>0.0</td>\n",
       "      <td>0.0</td>\n",
       "      <td>0.0</td>\n",
       "      <td>0.0</td>\n",
       "      <td>...</td>\n",
       "      <td>0.0</td>\n",
       "      <td>0.0</td>\n",
       "      <td>0.0</td>\n",
       "      <td>0.0</td>\n",
       "      <td>0.0</td>\n",
       "      <td>0.0</td>\n",
       "      <td>0.0</td>\n",
       "      <td>0.0</td>\n",
       "      <td>0.0</td>\n",
       "      <td>0.0</td>\n",
       "    </tr>\n",
       "    <tr>\n",
       "      <th>69996</th>\n",
       "      <td>0.0</td>\n",
       "      <td>0.0</td>\n",
       "      <td>0.0</td>\n",
       "      <td>0.0</td>\n",
       "      <td>0.0</td>\n",
       "      <td>0.0</td>\n",
       "      <td>0.0</td>\n",
       "      <td>0.0</td>\n",
       "      <td>0.0</td>\n",
       "      <td>0.0</td>\n",
       "      <td>...</td>\n",
       "      <td>0.0</td>\n",
       "      <td>0.0</td>\n",
       "      <td>0.0</td>\n",
       "      <td>0.0</td>\n",
       "      <td>0.0</td>\n",
       "      <td>0.0</td>\n",
       "      <td>0.0</td>\n",
       "      <td>0.0</td>\n",
       "      <td>0.0</td>\n",
       "      <td>0.0</td>\n",
       "    </tr>\n",
       "    <tr>\n",
       "      <th>69997</th>\n",
       "      <td>0.0</td>\n",
       "      <td>0.0</td>\n",
       "      <td>0.0</td>\n",
       "      <td>0.0</td>\n",
       "      <td>0.0</td>\n",
       "      <td>0.0</td>\n",
       "      <td>0.0</td>\n",
       "      <td>0.0</td>\n",
       "      <td>0.0</td>\n",
       "      <td>0.0</td>\n",
       "      <td>...</td>\n",
       "      <td>0.0</td>\n",
       "      <td>0.0</td>\n",
       "      <td>0.0</td>\n",
       "      <td>0.0</td>\n",
       "      <td>0.0</td>\n",
       "      <td>0.0</td>\n",
       "      <td>0.0</td>\n",
       "      <td>0.0</td>\n",
       "      <td>0.0</td>\n",
       "      <td>0.0</td>\n",
       "    </tr>\n",
       "    <tr>\n",
       "      <th>69998</th>\n",
       "      <td>0.0</td>\n",
       "      <td>0.0</td>\n",
       "      <td>0.0</td>\n",
       "      <td>0.0</td>\n",
       "      <td>0.0</td>\n",
       "      <td>0.0</td>\n",
       "      <td>0.0</td>\n",
       "      <td>0.0</td>\n",
       "      <td>0.0</td>\n",
       "      <td>0.0</td>\n",
       "      <td>...</td>\n",
       "      <td>0.0</td>\n",
       "      <td>0.0</td>\n",
       "      <td>0.0</td>\n",
       "      <td>0.0</td>\n",
       "      <td>0.0</td>\n",
       "      <td>0.0</td>\n",
       "      <td>0.0</td>\n",
       "      <td>0.0</td>\n",
       "      <td>0.0</td>\n",
       "      <td>0.0</td>\n",
       "    </tr>\n",
       "    <tr>\n",
       "      <th>69999</th>\n",
       "      <td>0.0</td>\n",
       "      <td>0.0</td>\n",
       "      <td>0.0</td>\n",
       "      <td>0.0</td>\n",
       "      <td>0.0</td>\n",
       "      <td>0.0</td>\n",
       "      <td>0.0</td>\n",
       "      <td>0.0</td>\n",
       "      <td>0.0</td>\n",
       "      <td>0.0</td>\n",
       "      <td>...</td>\n",
       "      <td>0.0</td>\n",
       "      <td>0.0</td>\n",
       "      <td>0.0</td>\n",
       "      <td>0.0</td>\n",
       "      <td>0.0</td>\n",
       "      <td>0.0</td>\n",
       "      <td>0.0</td>\n",
       "      <td>0.0</td>\n",
       "      <td>0.0</td>\n",
       "      <td>0.0</td>\n",
       "    </tr>\n",
       "  </tbody>\n",
       "</table>\n",
       "<p>70000 rows × 784 columns</p>\n",
       "</div>"
      ],
      "text/plain": [
       "       pixel1  pixel2  pixel3  pixel4  pixel5  pixel6  pixel7  pixel8  pixel9  \\\n",
       "0         0.0     0.0     0.0     0.0     0.0     0.0     0.0     0.0     0.0   \n",
       "1         0.0     0.0     0.0     0.0     0.0     0.0     0.0     0.0     0.0   \n",
       "2         0.0     0.0     0.0     0.0     0.0     0.0     0.0     0.0     0.0   \n",
       "3         0.0     0.0     0.0     0.0     0.0     0.0     0.0     0.0     0.0   \n",
       "4         0.0     0.0     0.0     0.0     0.0     0.0     0.0     0.0     0.0   \n",
       "...       ...     ...     ...     ...     ...     ...     ...     ...     ...   \n",
       "69995     0.0     0.0     0.0     0.0     0.0     0.0     0.0     0.0     0.0   \n",
       "69996     0.0     0.0     0.0     0.0     0.0     0.0     0.0     0.0     0.0   \n",
       "69997     0.0     0.0     0.0     0.0     0.0     0.0     0.0     0.0     0.0   \n",
       "69998     0.0     0.0     0.0     0.0     0.0     0.0     0.0     0.0     0.0   \n",
       "69999     0.0     0.0     0.0     0.0     0.0     0.0     0.0     0.0     0.0   \n",
       "\n",
       "       pixel10  ...  pixel775  pixel776  pixel777  pixel778  pixel779  \\\n",
       "0          0.0  ...       0.0       0.0       0.0       0.0       0.0   \n",
       "1          0.0  ...       0.0       0.0       0.0       0.0       0.0   \n",
       "2          0.0  ...       0.0       0.0       0.0       0.0       0.0   \n",
       "3          0.0  ...       0.0       0.0       0.0       0.0       0.0   \n",
       "4          0.0  ...       0.0       0.0       0.0       0.0       0.0   \n",
       "...        ...  ...       ...       ...       ...       ...       ...   \n",
       "69995      0.0  ...       0.0       0.0       0.0       0.0       0.0   \n",
       "69996      0.0  ...       0.0       0.0       0.0       0.0       0.0   \n",
       "69997      0.0  ...       0.0       0.0       0.0       0.0       0.0   \n",
       "69998      0.0  ...       0.0       0.0       0.0       0.0       0.0   \n",
       "69999      0.0  ...       0.0       0.0       0.0       0.0       0.0   \n",
       "\n",
       "       pixel780  pixel781  pixel782  pixel783  pixel784  \n",
       "0           0.0       0.0       0.0       0.0       0.0  \n",
       "1           0.0       0.0       0.0       0.0       0.0  \n",
       "2           0.0       0.0       0.0       0.0       0.0  \n",
       "3           0.0       0.0       0.0       0.0       0.0  \n",
       "4           0.0       0.0       0.0       0.0       0.0  \n",
       "...         ...       ...       ...       ...       ...  \n",
       "69995       0.0       0.0       0.0       0.0       0.0  \n",
       "69996       0.0       0.0       0.0       0.0       0.0  \n",
       "69997       0.0       0.0       0.0       0.0       0.0  \n",
       "69998       0.0       0.0       0.0       0.0       0.0  \n",
       "69999       0.0       0.0       0.0       0.0       0.0  \n",
       "\n",
       "[70000 rows x 784 columns]"
      ]
     },
     "execution_count": 3,
     "metadata": {},
     "output_type": "execute_result"
    }
   ],
   "source": [
    "mnist.data"
   ]
  },
  {
   "cell_type": "markdown",
   "id": "23cc5d48",
   "metadata": {},
   "source": [
    "## Establish Baseline Performance using Supervised Learning"
   ]
  },
  {
   "cell_type": "code",
   "execution_count": 6,
   "id": "801e668d",
   "metadata": {},
   "outputs": [],
   "source": [
    "# 80/20 train test split using the first 10000 data (full dataset is too slow)\n",
    "mnist_data_train, mnist_data_test = sklearn.model_selection.train_test_split(mnist.data.iloc[0:10000], \n",
    "                                                                                test_size=0.2, random_state = 0)\n",
    "mnist_label_train, mnist_label_test = sklearn.model_selection.train_test_split(mnist.target.iloc[0:10000], \n",
    "                                                                               test_size = 0.2, random_state=0)"
   ]
  },
  {
   "cell_type": "code",
   "execution_count": 7,
   "id": "074ac260",
   "metadata": {},
   "outputs": [],
   "source": [
    "svc = sklearn.svm.SVC() # use parameters in LeCun study\n",
    "svc_params = {'C': [0.01, 0.1, 1, 10], 'kernel': ['rbf']} # gaussian kernel\n",
    "svc_poly_params = {'C': [0.01, 0.1, 1, 10], 'kernel': ['poly'], 'degree': [4]}"
   ]
  },
  {
   "cell_type": "code",
   "execution_count": 8,
   "id": "06b5ca49",
   "metadata": {},
   "outputs": [
    {
     "name": "stdout",
     "output_type": "stream",
     "text": [
      "Fitting 5 folds for each of 8 candidates, totalling 40 fits\n"
     ]
    },
    {
     "data": {
      "text/plain": [
       "GridSearchCV(estimator=SVC(), n_jobs=-1,\n",
       "             param_grid=[{'C': [0.01, 0.1, 1, 10], 'kernel': ['rbf']},\n",
       "                         {'C': [0.01, 0.1, 1, 10], 'degree': [4],\n",
       "                          'kernel': ['poly']}],\n",
       "             verbose=2)"
      ]
     },
     "execution_count": 8,
     "metadata": {},
     "output_type": "execute_result"
    }
   ],
   "source": [
    "gridSearchSVC = sklearn.model_selection.GridSearchCV(svc, [svc_params, svc_poly_params], n_jobs = -1, verbose=2)\n",
    "gridSearchSVC.fit(mnist_data_train, mnist_label_train)"
   ]
  },
  {
   "cell_type": "code",
   "execution_count": 12,
   "id": "2c70ff79",
   "metadata": {},
   "outputs": [
    {
     "data": {
      "text/plain": [
       "(0.9623750000000001, {'C': 10, 'kernel': 'rbf'})"
      ]
     },
     "execution_count": 12,
     "metadata": {},
     "output_type": "execute_result"
    }
   ],
   "source": [
    "gridSearchSVC.best_score_, gridSearchSVC.best_params_"
   ]
  },
  {
   "cell_type": "code",
   "execution_count": 14,
   "id": "85f2f0c3",
   "metadata": {},
   "outputs": [
    {
     "data": {
      "text/plain": [
       "SVC(C=10)"
      ]
     },
     "execution_count": 14,
     "metadata": {},
     "output_type": "execute_result"
    }
   ],
   "source": [
    "svc = sklearn.svm.SVC(C=10, kernel='rbf')\n",
    "svc.fit(mnist_data_train, mnist_label_train)"
   ]
  },
  {
   "cell_type": "code",
   "execution_count": 16,
   "id": "1e5426f0",
   "metadata": {},
   "outputs": [
    {
     "data": {
      "text/plain": [
       "0.9675"
      ]
     },
     "execution_count": 16,
     "metadata": {},
     "output_type": "execute_result"
    },
    {
     "name": "stdout",
     "output_type": "stream",
     "text": [
      "[CV] END .................................C=0.01, kernel=rbf; total time= 1.1min\n",
      "[CV] END .......................C=0.1, degree=4, kernel=poly; total time=  29.3s\n",
      "[CV] END .........................C=1, degree=4, kernel=poly; total time=  16.4s\n",
      "[CV] END .................................C=0.01, kernel=rbf; total time= 1.1min\n",
      "[CV] END .......................C=0.1, degree=4, kernel=poly; total time=  29.8s\n",
      "[CV] END .........................C=1, degree=4, kernel=poly; total time=  16.1s\n",
      "[CV] END .................................C=0.01, kernel=rbf; total time= 1.1min\n",
      "[CV] END .......................C=0.1, degree=4, kernel=poly; total time=  29.6s\n",
      "[CV] END .........................C=1, degree=4, kernel=poly; total time=  16.4s\n",
      "[CV] END .................................C=0.01, kernel=rbf; total time= 1.1min\n",
      "[CV] END .......................C=0.1, degree=4, kernel=poly; total time=  29.5s\n",
      "[CV] END .........................C=1, degree=4, kernel=poly; total time=  16.6s\n",
      "[CV] END .................................C=0.01, kernel=rbf; total time= 1.1min\n",
      "[CV] END .......................C=0.1, degree=4, kernel=poly; total time=  29.8s\n",
      "[CV] END .........................C=1, degree=4, kernel=poly; total time=  16.3s\n",
      "[CV] END ..................................C=0.1, kernel=rbf; total time=  28.5s\n",
      "[CV] END ....................................C=1, kernel=rbf; total time=  14.0s\n",
      "[CV] END ...................................C=10, kernel=rbf; total time=  13.3s\n",
      "[CV] END ......................C=0.01, degree=4, kernel=poly; total time=  51.2s\n",
      "[CV] END ........................C=10, degree=4, kernel=poly; total time=   7.3s\n",
      "[CV] END ..................................C=0.1, kernel=rbf; total time=  28.5s\n",
      "[CV] END ....................................C=1, kernel=rbf; total time=  14.2s\n",
      "[CV] END ...................................C=10, kernel=rbf; total time=  13.2s\n",
      "[CV] END ......................C=0.01, degree=4, kernel=poly; total time=  51.6s\n",
      "[CV] END ........................C=10, degree=4, kernel=poly; total time=   7.3s\n",
      "[CV] END ..................................C=0.1, kernel=rbf; total time=  28.5s\n",
      "[CV] END ....................................C=1, kernel=rbf; total time=  14.0s\n",
      "[CV] END ...................................C=10, kernel=rbf; total time=  13.1s\n",
      "[CV] END ......................C=0.01, degree=4, kernel=poly; total time=  51.4s\n",
      "[CV] END ........................C=10, degree=4, kernel=poly; total time=   7.9s\n",
      "[CV] END ..................................C=0.1, kernel=rbf; total time=  28.4s\n",
      "[CV] END ....................................C=1, kernel=rbf; total time=  14.2s\n",
      "[CV] END ...................................C=10, kernel=rbf; total time=  13.3s\n",
      "[CV] END ......................C=0.01, degree=4, kernel=poly; total time=  51.4s\n",
      "[CV] END ........................C=10, degree=4, kernel=poly; total time=   8.0s\n",
      "[CV] END ..................................C=0.1, kernel=rbf; total time=  28.5s\n",
      "[CV] END ....................................C=1, kernel=rbf; total time=  14.0s\n",
      "[CV] END ...................................C=10, kernel=rbf; total time=  13.2s\n",
      "[CV] END ......................C=0.01, degree=4, kernel=poly; total time=  51.5s\n",
      "[CV] END ........................C=10, degree=4, kernel=poly; total time=   8.1s\n"
     ]
    }
   ],
   "source": [
    "# test accuracy for SVM \n",
    "svc.score(mnist_data_test, mnist_label_test)"
   ]
  },
  {
   "cell_type": "code",
   "execution_count": 22,
   "id": "2a7b09f2",
   "metadata": {},
   "outputs": [],
   "source": [
    "mlp = sklearn.neural_network.MLPClassifier()\n",
    "# parameters used in LeCun study\n",
    "mlp_params = [{'hidden_layer_sizes': [(300, ), (100, ), (1000,), (300, 100), (500, 150)]}]"
   ]
  },
  {
   "cell_type": "code",
   "execution_count": 25,
   "id": "4cada986",
   "metadata": {},
   "outputs": [
    {
     "name": "stdout",
     "output_type": "stream",
     "text": [
      "Fitting 5 folds for each of 5 candidates, totalling 25 fits\n",
      "[CV] END ..........................hidden_layer_sizes=(100,); total time=   4.3s\n",
      "[CV] END .........................hidden_layer_sizes=(1000,); total time=  21.1s\n",
      "[CV] END ..........................hidden_layer_sizes=(100,); total time=   5.6s\n",
      "[CV] END .........................hidden_layer_sizes=(1000,); total time=  23.3s\n",
      "[CV] END ..........................hidden_layer_sizes=(100,); total time=   4.7s\n",
      "[CV] END .........................hidden_layer_sizes=(1000,); total time=  24.4s\n",
      "[CV] END ..........................hidden_layer_sizes=(100,); total time=   5.4s\n",
      "[CV] END .........................hidden_layer_sizes=(1000,); total time=  29.4s\n",
      "[CV] END ..........................hidden_layer_sizes=(100,); total time=   7.0s\n",
      "[CV] END .........................hidden_layer_sizes=(1000,); total time=  30.3s\n"
     ]
    },
    {
     "data": {
      "text/plain": [
       "GridSearchCV(estimator=MLPClassifier(), n_jobs=-1,\n",
       "             param_grid=[{'hidden_layer_sizes': [(300,), (100,), (1000,),\n",
       "                                                 (300, 100), (500, 150)]}],\n",
       "             verbose=2)"
      ]
     },
     "execution_count": 25,
     "metadata": {},
     "output_type": "execute_result"
    }
   ],
   "source": [
    "gridSearchMLP = sklearn.model_selection.GridSearchCV(mlp, param_grid=mlp_params, n_jobs = -1, verbose = 2, refit=True)\n",
    "gridSearchMLP.fit(mnist_data_train, mnist_label_train)"
   ]
  },
  {
   "cell_type": "code",
   "execution_count": 194,
   "id": "9abde9cd",
   "metadata": {},
   "outputs": [
    {
     "data": {
      "text/plain": [
       "0.9375"
      ]
     },
     "execution_count": 194,
     "metadata": {},
     "output_type": "execute_result"
    }
   ],
   "source": [
    "gridSearchMLP.best_score_"
   ]
  },
  {
   "cell_type": "code",
   "execution_count": 26,
   "id": "0cf91ba5",
   "metadata": {},
   "outputs": [
    {
     "data": {
      "text/plain": [
       "0.951"
      ]
     },
     "execution_count": 26,
     "metadata": {},
     "output_type": "execute_result"
    }
   ],
   "source": [
    "gridSearchMLP.best_estimator_.score(mnist_data_test, mnist_label_test)"
   ]
  },
  {
   "cell_type": "code",
   "execution_count": 27,
   "id": "3ea1ad5d",
   "metadata": {},
   "outputs": [
    {
     "data": {
      "text/plain": [
       "0.9435"
      ]
     },
     "execution_count": 27,
     "metadata": {},
     "output_type": "execute_result"
    }
   ],
   "source": [
    "randomForest = sklearn.ensemble.RandomForestClassifier()\n",
    "randomForest.fit(mnist_data_train, mnist_label_train)\n",
    "randomForest.score(mnist_data_test, mnist_label_test)"
   ]
  },
  {
   "cell_type": "code",
   "execution_count": 195,
   "id": "6de1c205",
   "metadata": {},
   "outputs": [
    {
     "data": {
      "text/plain": [
       "1.0"
      ]
     },
     "execution_count": 195,
     "metadata": {},
     "output_type": "execute_result"
    }
   ],
   "source": [
    "randomForest.score(mnist_data_train, mnist_label_train)"
   ]
  },
  {
   "cell_type": "markdown",
   "id": "740e14b7",
   "metadata": {},
   "source": [
    "## Convert to binary & MOB"
   ]
  },
  {
   "cell_type": "markdown",
   "id": "03575ea7",
   "metadata": {},
   "source": [
    "convert each pixel to [0, 1] by using 128 as threshold (each pixel is 0-255)"
   ]
  },
  {
   "cell_type": "code",
   "execution_count": 28,
   "id": "50b477f1",
   "metadata": {},
   "outputs": [],
   "source": [
    "mnistBin = (mnist.data / 128).astype(int) "
   ]
  },
  {
   "cell_type": "code",
   "execution_count": 29,
   "id": "dfd56529",
   "metadata": {},
   "outputs": [
    {
     "data": {
      "text/plain": [
       "<matplotlib.image.AxesImage at 0x14204e7f0>"
      ]
     },
     "execution_count": 29,
     "metadata": {},
     "output_type": "execute_result"
    },
    {
     "data": {
      "image/png": "[encoded data removed]",
      "text/plain": [
       "<Figure size 432x288 with 1 Axes>"
      ]
     },
     "metadata": {
      "needs_background": "light"
     },
     "output_type": "display_data"
    }
   ],
   "source": [
    "# one example of a binary image of the number '5'\n",
    "plt.imshow(np.array(mnistBin.iloc[0]).reshape(28, 28), cmap=plt.cm.Greys)"
   ]
  },
  {
   "cell_type": "code",
   "execution_count": 30,
   "id": "059cc576",
   "metadata": {},
   "outputs": [
    {
     "data": {
      "text/plain": [
       "<matplotlib.image.AxesImage at 0x140612b80>"
      ]
     },
     "execution_count": 30,
     "metadata": {},
     "output_type": "execute_result"
    },
    {
     "data": {
      "image/png": "[encoded data removed]",
      "text/plain": [
       "<Figure size 432x288 with 1 Axes>"
      ]
     },
     "metadata": {
      "needs_background": "light"
     },
     "output_type": "display_data"
    }
   ],
   "source": [
    "plt.imshow(np.array(mnist.data.iloc[0]).reshape(28, 28), cmap=plt.cm.Greys)"
   ]
  },
  {
   "cell_type": "code",
   "execution_count": 71,
   "id": "1b097a77",
   "metadata": {},
   "outputs": [],
   "source": [
    "# PMF for bernoulli distribution applied on a data matrix\n",
    "# Result represents p(x | mean)\n",
    "# data is the data matrix, thetas are cluster \n",
    "# returns a probability matrix of size len(data) * len(thetas)\n",
    "def bernoulliPDF(data, thetas):\n",
    "    res = np.zeros((len(data), len(thetas)))\n",
    "    for i in range(len(data)):\n",
    "        for j in range(len(thetas)):\n",
    "            # p(x) = t^x * (1-t)^(n-x)\n",
    "            res[i, j] = np.prod(thetas[j] ** data[i] * ((1-thetas[j]) ** (1-data[i])))\n",
    "    return res"
   ]
  },
  {
   "cell_type": "markdown",
   "id": "5da68e1a",
   "metadata": {},
   "source": [
    "Then calculate responsibility matrix for each cluster and data point"
   ]
  },
  {
   "cell_type": "code",
   "execution_count": 86,
   "id": "296a3ded",
   "metadata": {},
   "outputs": [],
   "source": [
    "# calculate responsibilities of each data point to all given clusters\n",
    "def respMatrix(data, weights, thetas):\n",
    "    numerator = bernoulliPDF(data, thetas) * weights\n",
    "    denom = np.sum(numerator, axis=1)[:, np.newaxis]\n",
    "    \n",
    "    if np.any(denom == 0):\n",
    "        print('zero division in respMatrix')\n",
    "    return numerator / denom\n",
    "    "
   ]
  },
  {
   "cell_type": "code",
   "execution_count": 74,
   "id": "2928a14f",
   "metadata": {},
   "outputs": [],
   "source": [
    "# update weights fixing responsibility by maximizing expectation of log likelihood\n",
    "def mStep(data, resp):\n",
    "    N, D, K = len(data), len(data[0]), len(resp[0])\n",
    "    \n",
    "    Nk = np.sum(resp, axis=0) # bishop equation 9.57\n",
    "    res = np.empty((K, D)) # thetas (mu_k)\n",
    "    \n",
    "    # bishop equation 9.59 for updating weights (mixing coeffs) and thetas\n",
    "    for k in range(K):\n",
    "        res[k] = np.sum(resp[:, k][:, np.newaxis] * data, axis =0)\n",
    "        if Nk[k] != 0:\n",
    "            res[k] /= Nk[k]\n",
    "        else:\n",
    "            print(\"Divide by zero in mStep\")\n",
    "    return (Nk / len(data), res)"
   ]
  },
  {
   "cell_type": "code",
   "execution_count": 169,
   "id": "21505f7f",
   "metadata": {},
   "outputs": [],
   "source": [
    "# expectation for complete log likelihood (bishop eq)\n",
    "\n",
    "def logLikelihood(data, weights, thetas):\n",
    "    resp = respMatrix(data, weights, thetas)\n",
    "    \n",
    "    N, K = len(data), len(thetas)\n",
    "    ll = 0\n",
    "    \n",
    "    for n in range(N):\n",
    "        s = 0\n",
    "        for k in range(K):\n",
    "            px = ((thetas[k]**data[n]) * (1-thetas[k])**(1-data[n]))\n",
    "            px = np.log(px.clip(min=1e-50))\n",
    "            s += resp[n, k] * (np.log(weights[k]) + sum(px))\n",
    "        ll += s\n",
    "    return (ll, resp)"
   ]
  },
  {
   "cell_type": "code",
   "execution_count": 212,
   "id": "62c4eeb9",
   "metadata": {},
   "outputs": [],
   "source": [
    "def EM(data, weights, thetas):\n",
    "    N, D, K = len(data), len(data[0]), len(thetas)\n",
    "    \n",
    "    currentWeight = weights.copy()\n",
    "    currentTheta = thetas.copy()\n",
    "    \n",
    "    ll, resp = logLikelihood(data, currentWeight, currentTheta)\n",
    "    last_ll = ll\n",
    "    \n",
    "    for i in range(1000):\n",
    "        if i % 100 == 0:\n",
    "            print('iter:', i+1)\n",
    "            print('log likelihood:', ll)\n",
    "        \n",
    "        currentWeight, currentTheta = mStep(data, resp)\n",
    "        \n",
    "        ll, resp = logLikelihood(data, currentWeight, currentTheta)\n",
    "        if abs(ll - last_ll) < 1e-10:\n",
    "            break\n",
    "        else:\n",
    "            ll_curve.append(ll)\n",
    "            last_ll = ll\n",
    "            \n",
    "    return (currentWeight, currentTheta, resp)\n",
    "        "
   ]
  },
  {
   "cell_type": "code",
   "execution_count": 269,
   "id": "9ac5785d",
   "metadata": {},
   "outputs": [],
   "source": [
    "def getSubset(nums, n_samples = 3000):\n",
    "    data, label = shuffle(mnistBin, mnist.target, n_samples = 3000)\n",
    "    data = data.to_numpy()\n",
    "    label = label.to_numpy()\n",
    "    subsetLabel = []\n",
    "    subsetData = []\n",
    "    \n",
    "    for i in range(len(data)):\n",
    "        if label[i] in nums:\n",
    "            subsetLabel.append(label[i])\n",
    "            subsetData.append(data[i])\n",
    "    \n",
    "    return (subsetData, subsetLabel)"
   ]
  },
  {
   "cell_type": "code",
   "execution_count": 270,
   "id": "60a748f8",
   "metadata": {},
   "outputs": [],
   "source": [
    "def run(data, K):\n",
    "    D = len(data[0])\n",
    "    \n",
    "    weights = np.random.uniform(0.25, 0.75, K)\n",
    "    weights /= np.linalg.norm(weights)\n",
    "    \n",
    "    thetas = np.zeros((K, D))\n",
    "    thetas.fill(1.0 / K)\n",
    "    \n",
    "    ll_curve = []\n",
    "    \n",
    "    bestWeight, bestTheta, resp = EM(data, weights, thetas)\n",
    "    return (bestWeight, bestTheta, resp, ll_curve)"
   ]
  },
  {
   "cell_type": "code",
   "execution_count": 301,
   "id": "e5e4386a",
   "metadata": {},
   "outputs": [],
   "source": [
    "def MOB_accuracy(label, clusters, resp):\n",
    "    correct = 0\n",
    "    \n",
    "    for i in range(len(resp)):\n",
    "        predicted = clusters[np.argmax(resp[i])]\n",
    "        expected = label[i]\n",
    "        if predicted == expected:\n",
    "            correct += 1\n",
    "    return correct / len(resp)"
   ]
  },
  {
   "cell_type": "code",
   "execution_count": 298,
   "id": "578635d3",
   "metadata": {},
   "outputs": [
    {
     "name": "stdout",
     "output_type": "stream",
     "text": [
      "iter: 1\n",
      "log likelihood: -1194534.586418023\n"
     ]
    }
   ],
   "source": [
    "from sklearn.utils import shuffle\n",
    "\n",
    "\n",
    "data, label = shuffle(mnistBin, mnist.target, n_samples = 10000)\n",
    "data = data.to_numpy()\n",
    "label = label.to_numpy()\n",
    "subsetLabel = []\n",
    "subsetData = []\n",
    "s = set(['2', '3', '4'])\n",
    "for i in range(len(data)):\n",
    "    if label[i] in s:\n",
    "        subsetLabel.append(label[i])\n",
    "        subsetData.append(data[i])\n",
    "\n",
    "K = 3 # number of clusters\n",
    "D = len(subsetData[0]) # number of pixels\n",
    "\n",
    "# follow bishop method, initialize weights as uniform random variables (0.25, 0.75) then normalize\n",
    "initWeights = np.random.uniform(0.25,0.75,K)\n",
    "initWeights = initWeights/ np.linalg.norm(initWeights)\n",
    "# initialize mixing coeffs as 1.0 / k for all means\n",
    "initThetas = np.full((K, D), 1.0/K)\n",
    "\n",
    "ll_curve = []\n",
    "\n",
    "bestWeight, bestTheta, resp = EM(subsetData, initWeights, initThetas)"
   ]
  },
  {
   "cell_type": "code",
   "execution_count": 299,
   "id": "3e38a6ea",
   "metadata": {},
   "outputs": [
    {
     "data": {
      "text/plain": [
       "Text(0, 0.5, 'log likelihood')"
      ]
     },
     "execution_count": 299,
     "metadata": {},
     "output_type": "execute_result"
    },
    {
     "data": {
      "image/png": "[encoded data removed]",
      "text/plain": [
       "<Figure size 432x288 with 1 Axes>"
      ]
     },
     "metadata": {
      "needs_background": "light"
     },
     "output_type": "display_data"
    }
   ],
   "source": [
    "plt.plot(list(range(len(ll_curve))),ll_curve)\n",
    "plt.xlabel(\"iteration\")\n",
    "plt.ylabel(\"log likelihood\")"
   ]
  },
  {
   "cell_type": "code",
   "execution_count": 300,
   "id": "6fa38eb2",
   "metadata": {},
   "outputs": [
    {
     "data": {
      "image/png": "[encoded data removed]",
      "text/plain": [
       "<Figure size 432x288 with 3 Axes>"
      ]
     },
     "metadata": {
      "needs_background": "light"
     },
     "output_type": "display_data"
    }
   ],
   "source": [
    "f, a = plt.subplots(1, 3)\n",
    "for idx, i in enumerate(a.flatten()):\n",
    "    i.imshow(bestTheta[idx].reshape((28, 28)), cmap=plt.cm.Greys)\n",
    "plt.tight_layout()"
   ]
  },
  {
   "cell_type": "code",
   "execution_count": 302,
   "id": "bb29b2ec",
   "metadata": {},
   "outputs": [
    {
     "data": {
      "text/plain": [
       "0.9062706270627062"
      ]
     },
     "execution_count": 302,
     "metadata": {},
     "output_type": "execute_result"
    }
   ],
   "source": [
    "cluster_labels = ['2', '4', '3']\n",
    "\n",
    "MOB_accuracy(subsetLabel, cluster_labels, resp)"
   ]
  },
  {
   "cell_type": "code",
   "execution_count": 306,
   "id": "bf8144d1",
   "metadata": {},
   "outputs": [
    {
     "name": "stdout",
     "output_type": "stream",
     "text": [
      "iter: 1\n",
      "log likelihood: -774166.4455370876\n",
      "iter: 101\n",
      "log likelihood: -412383.8414824898\n",
      "iter: 201\n",
      "log likelihood: -412376.07558193535\n"
     ]
    }
   ],
   "source": [
    "data, label = shuffle(mnistBin, mnist.target, n_samples = 5000)\n",
    "data = data.to_numpy()\n",
    "label = label.to_numpy()\n",
    "subsetLabel = []\n",
    "subsetData = []\n",
    "s = set(['1', '2', '3', '4', '5'])\n",
    "for i in range(len(data)):\n",
    "    if label[i] in s:\n",
    "        subsetLabel.append(label[i])\n",
    "        subsetData.append(data[i])\n",
    "\n",
    "K = 5 # number of clusters\n",
    "D = len(subsetData[0]) # number of pixels\n",
    "\n",
    "# follow bishop method, initialize weights as uniform random variables (0.25, 0.75) then normalize\n",
    "initWeights = np.random.uniform(0.25,0.75,K)\n",
    "initWeights = initWeights/ np.linalg.norm(initWeights)\n",
    "# initialize mixing coeffs as 1.0 / k for all means\n",
    "initThetas = np.full((K, D), 1.0/K)\n",
    "\n",
    "ll_curve = []\n",
    "\n",
    "bestWeight, bestTheta, resp = EM(subsetData, initWeights, initThetas)"
   ]
  },
  {
   "cell_type": "code",
   "execution_count": 307,
   "id": "d60820a9",
   "metadata": {},
   "outputs": [
    {
     "data": {
      "text/plain": [
       "Text(0, 0.5, 'log likelihood')"
      ]
     },
     "execution_count": 307,
     "metadata": {},
     "output_type": "execute_result"
    },
    {
     "data": {
      "image/png": "[encoded data removed]",
      "text/plain": [
       "<Figure size 432x288 with 1 Axes>"
      ]
     },
     "metadata": {
      "needs_background": "light"
     },
     "output_type": "display_data"
    }
   ],
   "source": [
    "plt.plot(list(range(len(ll_curve))),ll_curve)\n",
    "plt.xlabel(\"iteration\")\n",
    "plt.ylabel(\"log likelihood\")"
   ]
  },
  {
   "cell_type": "code",
   "execution_count": 309,
   "id": "e7f0d8a6",
   "metadata": {},
   "outputs": [
    {
     "data": {
      "image/png": "[encoded data removed]",
      "text/plain": [
       "<Figure size 432x288 with 5 Axes>"
      ]
     },
     "metadata": {
      "needs_background": "light"
     },
     "output_type": "display_data"
    }
   ],
   "source": [
    "f, a = plt.subplots(1, 5)\n",
    "for idx, i in enumerate(a.flatten()):\n",
    "    i.imshow(bestTheta[idx].reshape((28, 28)), cmap=plt.cm.Greys)\n",
    "plt.tight_layout()"
   ]
  },
  {
   "cell_type": "code",
   "execution_count": 310,
   "id": "b1ac378a",
   "metadata": {},
   "outputs": [
    {
     "data": {
      "text/plain": [
       "0.7366304784881383"
      ]
     },
     "execution_count": 310,
     "metadata": {},
     "output_type": "execute_result"
    }
   ],
   "source": [
    "cluster_labels = ['5', '4', '2', '1', '3']\n",
    "\n",
    "MOB_accuracy(subsetLabel, cluster_labels, resp)"
   ]
  },
  {
   "cell_type": "code",
   "execution_count": null,
   "id": "02f7704f",
   "metadata": {},
   "outputs": [],
   "source": []
  }
 ],
 "metadata": {
  "kernelspec": {
   "display_name": "Python [conda env:root] *",
   "language": "python",
   "name": "conda-root-py"
  },
  "language_info": {
   "codemirror_mode": {
    "name": "ipython",
    "version": 3
   },
   "file_extension": ".py",
   "mimetype": "text/x-python",
   "name": "python",
   "nbconvert_exporter": "python",
   "pygments_lexer": "ipython3",
   "version": "3.9.7"
  }
 },
 "nbformat": 4,
 "nbformat_minor": 5
}
